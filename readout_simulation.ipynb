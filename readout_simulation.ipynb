{
 "cells": [
  {
   "cell_type": "code",
   "execution_count": 1,
   "metadata": {},
   "outputs": [],
   "source": [
    "import matplotlib.pyplot as plt\n",
    "from scipy.integrate import ode\n",
    "import numpy as np"
   ]
  },
  {
   "cell_type": "markdown",
   "metadata": {},
   "source": [
    "# Qubit Readout Simulation\n",
    "\n",
    "Suppose the system consisting of a transmon and a readout resonator coupled in the dispersive regime. A transmission line couples with the resonator, whereby an operator can send input signals to the system and receive the transmitted waveform.\n",
    "\n",
    "This notebook will simulate the emission of an input signal $s_{in}(t)$ along the transmission line, its interaction with the readout reasonator and the analysis of the transmitted waveform $s_{out}(t)$."
   ]
  },
  {
   "cell_type": "markdown",
   "metadata": {},
   "source": [
    "### The Transmission Line Hamiltonian\n",
    "\n",
    "The input signal will be assumed to have the form\n",
    "\n",
    "$$s_{in}(t) = A_{in}e^{i\\phi_{in}}e^{-i\\omega_{in} t} = (I_{in} + iQ_{in})e^{-i\\omega_{in}t}.$$\n",
    "\n",
    "$I_{in}$ and $Q_{in}$ are the in-phase and quadrature components of the phasor $A_{in}e^{i\\phi_{in}}$.\n",
    "\n",
    "The input signal is a coherent superposition of photons $\\left|\\beta_{in}\\right\\rangle$. The magnitude and phase of $\\beta_{in}$ are directly related to $I_{in}$ and $Q_{in}$."
   ]
  },
  {
   "cell_type": "code",
   "execution_count": 14,
   "metadata": {},
   "outputs": [],
   "source": [
    "def b_in(t):\n",
    "\n",
    "    # Pulse start time\n",
    "    t0 = 100e-9\n",
    "    \n",
    "    # Pulse stop time\n",
    "    tf = 2000e-9\n",
    "    \n",
    "    # Frequency mismatch between readout pulse and cavity (rad/s)\n",
    "    omega_mm = 0\n",
    "    \n",
    "    if t > t0 and t < tf:\n",
    "        return 1*np.cos(2*np.pi*omega_mm*t)\n",
    "\n",
    "    else:\n",
    "        return 0 "
   ]
  },
  {
   "cell_type": "markdown",
   "metadata": {},
   "source": [
    "### System evolution\n",
    "\n",
    "Assume $\\hat{a}$ is the annihilation operator of the readout resonator. In the Heisenberg-Langevin formulation, its equation of motion is\n",
    "\n",
    "$$\\frac{d}{dt}\\hat{a} = \\left(\\pm i\\frac{\\chi}{2} - \\frac{\\kappa}{2}\\right)\\hat{a} -\\sqrt{\\kappa}\\beta_{in}(t).$$\n",
    "\n",
    "Note that this equation is written in a frame of reference with rotation $\\omega_{in}$, assumed to be resonant with the resonator frequency. $\\chi$ and $\\kappa$ are the dispersive shift of the transmon-resonator coupling and the decay rate of photons leaking from the resonator to the tranmission line, respectively. The positive (negative) sign accompanying $\\chi$ corresponds to the frequency shift induced by the transmon when it is in the ground (excited) state. Leakage to the environment is neglected.\n",
    "\n",
    "Now assume the resonator is always in a coherent state $\\left|\\alpha(t)\\right\\rangle$. The evolution of $\\alpha(t)$ is determined by the Langevin equation. Since $\\hat{a}\\left|\\alpha(t)\\right\\rangle = \\alpha(t)\\left|\\alpha(t)\\right\\rangle$,\n",
    "\n",
    "$$\\frac{d}{dt}\\alpha(t) = \\left(\\pm i\\frac{\\chi}{2} - \\frac{\\kappa}{2}\\right)\\alpha(t) -\\sqrt{\\kappa}\\beta_{in}(t).$$\n",
    "\n",
    "This equation can be solved with standard methods to find $\\alpha(t)$ as a function of $\\beta_{in}(t)$."
   ]
  },
  {
   "cell_type": "code",
   "execution_count": 6,
   "metadata": {},
   "outputs": [],
   "source": [
    "g = 45e6 # Transmon-cavity coupling strength (Hz)\n",
    "delta = 380e6 # Transmon-cavity detuning (0z)\n",
    "chi = g**2/delta\n",
    "\n",
    "kappa = chi\n",
    "\n",
    "q_state = 0 # State of the transmon: 0 for ground and 1 for excited state"
   ]
  },
  {
   "cell_type": "code",
   "execution_count": 21,
   "metadata": {},
   "outputs": [],
   "source": [
    "def eom_resonator(t, alpha, q_state, kappa, chi, b_in):\n",
    "    return (1j*(-1)**q_state*chi/2 - kappa/2)*alpha - 1j*kappa**0.5*b_in(t)\n",
    "\n",
    "t1 = 20/chi\n",
    "dt = 1e-10\n",
    "alpha0 = 0\n",
    "\n",
    "q_state = 0\n",
    "\n",
    "rg = ode(eom_resonator)\n",
    "rg.set_integrator('zvode', method = 'bdf').set_initial_value(alpha0, 0).set_f_params(q_state, kappa, chi, b_in)\n",
    "alpha_g = []\n",
    "while rg.successful() and rg.t < t1:\n",
    "    alpha_g.append(rg.integrate(rg.t + dt))\n",
    "    \n",
    "q_state = 1\n",
    "\n",
    "re = ode(eom_resonator)\n",
    "re.set_integrator('zvode', method = 'bdf').set_initial_value(alpha0, 0).set_f_params(q_state, kappa, chi, b_in)\n",
    "alpha_e = []\n",
    "while re.successful() and re.t < t1:\n",
    "    alpha_e.append(re.integrate(re.t + dt))\n"
   ]
  },
  {
   "cell_type": "code",
   "execution_count": 28,
   "metadata": {},
   "outputs": [],
   "source": [
    "t_rng = [x*10**6 for x in np.linspace(0, t1, len(alpha_g))]\n",
    "b_out_g = [kappa**0.5*alpha_g[x] + b_in(dt*x) for x in range(len(alpha_g))]\n",
    "b_out_e = [kappa**0.5*alpha_e[x] + b_in(dt*x) for x in range(len(alpha_e))]"
   ]
  },
  {
   "cell_type": "code",
   "execution_count": 33,
   "metadata": {
    "scrolled": true
   },
   "outputs": [
    {
     "data": {
      "text/plain": [
       "Text(0.5, 0, 'time ($\\\\mu$s)')"
      ]
     },
     "execution_count": 33,
     "metadata": {},
     "output_type": "execute_result"
    },
    {
     "data": {
      "image/png": "[encoded data removed]",
      "text/plain": [
       "<Figure size 432x288 with 1 Axes>"
      ]
     },
     "metadata": {
      "needs_background": "light"
     },
     "output_type": "display_data"
    }
   ],
   "source": [
    "plt.plot(t_rng, [b_in(dt*x).real for x in range(len(alpha_g))])\n",
    "plt.plot(t_rng, [b_in(dt*x).imag for x in range(len(alpha_g))])\n",
    "plt.xlabel('time ($\\mu$s)')"
   ]
  },
  {
   "cell_type": "code",
   "execution_count": 30,
   "metadata": {},
   "outputs": [
    {
     "data": {
      "text/plain": [
       "Text(0.5, 0, 'time ($\\\\mu$s)')"
      ]
     },
     "execution_count": 30,
     "metadata": {},
     "output_type": "execute_result"
    },
    {
     "data": {
      "image/png": "[encoded data removed]",
      "text/plain": [
       "<Figure size 432x288 with 1 Axes>"
      ]
     },
     "metadata": {
      "needs_background": "light"
     },
     "output_type": "display_data"
    }
   ],
   "source": [
    "plt.plot(t_rng, [x.real for x in b_out_e])\n",
    "plt.plot(t_rng, [x.real for x in b_out_g])\n",
    "plt.xlabel('time ($\\mu$s)')"
   ]
  }
 ],
 "metadata": {
  "kernelspec": {
   "display_name": "Python 3",
   "language": "python",
   "name": "python3"
  },
  "language_info": {
   "codemirror_mode": {
    "name": "ipython",
    "version": 3
   },
   "file_extension": ".py",
   "mimetype": "text/x-python",
   "name": "python",
   "nbconvert_exporter": "python",
   "pygments_lexer": "ipython3",
   "version": "3.8.5"
  }
 },
 "nbformat": 4,
 "nbformat_minor": 4
}
